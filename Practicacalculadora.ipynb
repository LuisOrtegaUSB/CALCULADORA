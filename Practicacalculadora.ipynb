{
  "nbformat": 4,
  "nbformat_minor": 0,
  "metadata": {
    "colab": {
      "name": "Practicacalculadora.ipynb",
      "provenance": [],
      "authorship_tag": "ABX9TyNZL1ZKf7o1W392YFZiVjBO",
      "include_colab_link": true
    },
    "kernelspec": {
      "name": "python3",
      "display_name": "Python 3"
    },
    "language_info": {
      "name": "python"
    }
  },
  "cells": [
    {
      "cell_type": "markdown",
      "metadata": {
        "id": "view-in-github",
        "colab_type": "text"
      },
      "source": [
        "<a href=\"https://colab.research.google.com/github/LuisOrtegaUSB/CALCULADORA/blob/main/Practicacalculadora.ipynb\" target=\"_parent\"><img src=\"https://colab.research.google.com/assets/colab-badge.svg\" alt=\"Open In Colab\"/></a>"
      ]
    },
    {
      "cell_type": "code",
      "metadata": {
        "colab": {
          "base_uri": "https://localhost:8080/"
        },
        "id": "UtZJ-SbZqwzX",
        "outputId": "dd9c9d92-a277-4d3e-d8d6-dc1c43a8cf31"
      },
      "source": [
        "def add(a,b):\n",
        "  result=a+b\n",
        "  print(\"a+b= \",result)\n",
        "\n",
        "def add(a,b):\n",
        "  result=a+b\n",
        "  print(\"a-b= \",result)\n",
        "\n",
        "def sub(a,b):\n",
        "  result=a*b\n",
        "  print(\"a*b= \",result)\n",
        "\n",
        "def sub(a,b):\n",
        "  result=a/b\n",
        "  print(\"a/b= \",result)\n",
        "\n",
        "a=int(input(\"ingrese un numero: \"))\n",
        "b=int(input(\"ingrese un numero: \"))\n",
        "op=input(\"¿que quiere hacer?: \")\n",
        "\n",
        "if op==\"+\":\n",
        "  add(a,b)\n",
        "  elif op==\"-\":\n",
        "  sub(a,b)\n",
        "  elif op==\"*\":\n",
        "  mul(a,b)\n",
        "  elif op==\"/\":\n",
        "  div(a,b)\n",
        "  else:\n",
        "    print(\"No es valido esa operacion\")"
      ],
      "execution_count": 16,
      "outputs": [
        {
          "output_type": "stream",
          "text": [
            "ingrese un numero: 3\n",
            "ingrese un numero: 1\n",
            "¿que quiere hacer?: -\n"
          ],
          "name": "stdout"
        }
      ]
    }
  ]
}